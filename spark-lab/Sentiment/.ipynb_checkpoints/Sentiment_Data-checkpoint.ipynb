{
 "cells": [
  {
   "cell_type": "code",
   "execution_count": 1,
   "metadata": {},
   "outputs": [],
   "source": [
    "import os\n",
    "os.environ[\"PYSPARK_PYTHON\"]=\"python3.7\"\n",
    "os.environ[\"PYSPARK_DRIVER_PYTHON\"]=\"python3.7\""
   ]
  },
  {
   "cell_type": "code",
   "execution_count": 2,
   "metadata": {},
   "outputs": [],
   "source": [
    "from functools import reduce\n",
    "from pyspark.sql import SparkSession, DataFrame\n",
    "from pyspark.sql.functions import *\n",
    "from pyspark.sql.types import *\n",
    "\n",
    "spark = SparkSession.builder \\\n",
    "            .master(\"spark://spark-master:7077\") \\\n",
    "            .appName(\"DataSentiment\") \\\n",
    "            .getOrCreate()"
   ]
  },
  {
   "cell_type": "code",
   "execution_count": 3,
   "metadata": {},
   "outputs": [],
   "source": [
    "schema = StructType([\n",
    "    StructField('comment', StringType(), False),\n",
    "    StructField('sentiment', IntegerType(), False),\n",
    "])"
   ]
  },
  {
   "cell_type": "code",
   "execution_count": 4,
   "metadata": {},
   "outputs": [],
   "source": [
    "files = ['{:0>2}'.format(str(i)) for i in list(range(1, 5))]"
   ]
  },
  {
   "cell_type": "code",
   "execution_count": 5,
   "metadata": {},
   "outputs": [
    {
     "data": {
      "text/plain": [
       "['01', '02', '03', '04']"
      ]
     },
     "execution_count": 5,
     "metadata": {},
     "output_type": "execute_result"
    }
   ],
   "source": [
    "files"
   ]
  },
  {
   "cell_type": "code",
   "execution_count": 6,
   "metadata": {},
   "outputs": [],
   "source": [
    "for file in files:\n",
    "    df = spark.read.format(\"json\").load(\"hdfs://namenode/user/root/input/data{name}.json\".format(name=file), multiLine = \"true\")\n",
    "    df = df.na.drop().dropDuplicates()\n",
    "    df = df.filter(size(df['comments']) >= 30)\n",
    "    \n",
    "    comments = df.select('comments').collect()\n",
    "    data = []\n",
    "    from textblob import TextBlob\n",
    "\n",
    "    for comment in comments:\n",
    "        for item in comment[0]:\n",
    "            try:\n",
    "                sentiment = TextBlob(item).polarity\n",
    "            \n",
    "                if sentiment > 0:\n",
    "                    data.append((item, 1))\n",
    "                elif sentiment <= 0:\n",
    "                    data.append((item, -1))\n",
    "            except:\n",
    "                # item chua cac ki tu dac biet => None\n",
    "                pass\n",
    "            \n",
    "    df = spark.createDataFrame(data, schema)\n",
    "    \n",
    "    if not os.path.isfile('data_sentiment.csv'):\n",
    "        df.toPandas().to_csv('data_sentiment.csv', index=False)\n",
    "    else:\n",
    "        df.toPandas().to_csv('data_sentiment.csv', mode='a', header=False, index=False)"
   ]
  },
  {
   "cell_type": "code",
   "execution_count": 7,
   "metadata": {},
   "outputs": [],
   "source": [
    "spark.stop()"
   ]
  },
  {
   "cell_type": "code",
   "execution_count": null,
   "metadata": {},
   "outputs": [],
   "source": []
  }
 ],
 "metadata": {
  "kernelspec": {
   "display_name": "Python 3",
   "language": "python",
   "name": "python3"
  },
  "language_info": {
   "codemirror_mode": {
    "name": "ipython",
    "version": 3
   },
   "file_extension": ".py",
   "mimetype": "text/x-python",
   "name": "python",
   "nbconvert_exporter": "python",
   "pygments_lexer": "ipython3",
   "version": "3.7.3"
  }
 },
 "nbformat": 4,
 "nbformat_minor": 4
}

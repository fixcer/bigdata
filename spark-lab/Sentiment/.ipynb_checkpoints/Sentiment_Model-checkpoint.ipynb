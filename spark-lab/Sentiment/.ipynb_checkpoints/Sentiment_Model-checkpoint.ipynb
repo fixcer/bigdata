{
 "cells": [
  {
   "cell_type": "markdown",
   "metadata": {},
   "source": [
    "# Khai báo biến môi trường"
   ]
  },
  {
   "cell_type": "code",
   "execution_count": null,
   "metadata": {},
   "outputs": [],
   "source": [
    "import os\n",
    "os.environ[\"PYSPARK_PYTHON\"]=\"python3.7\"\n",
    "os.environ[\"PYSPARK_DRIVER_PYTHON\"]=\"python3.7\""
   ]
  },
  {
   "cell_type": "markdown",
   "metadata": {},
   "source": [
    "# Khởi tạo Spark Session"
   ]
  },
  {
   "cell_type": "code",
   "execution_count": 2,
   "metadata": {},
   "outputs": [],
   "source": [
    "from pyspark.sql import SparkSession, DataFrame\n",
    "from pyspark.sql.functions import *\n",
    "from pyspark.sql.types import *\n",
    "\n",
    "spark = SparkSession.builder \\\n",
    "            .master(\"spark://spark-master:7077\") \\\n",
    "            .appName(\"ModelSentiment\") \\\n",
    "            .getOrCreate()"
   ]
  },
  {
   "cell_type": "markdown",
   "metadata": {},
   "source": [
    "# Đọc dữ liệu sau khi gán nhãn dể  huấn luyện mô hình"
   ]
  },
  {
   "cell_type": "code",
   "execution_count": 3,
   "metadata": {},
   "outputs": [],
   "source": [
    "df = spark.read.format(\"csv\").options(header='true').load(\"hdfs://namenode/user/root/input/data_sentiment.csv\")"
   ]
  },
  {
   "cell_type": "code",
   "execution_count": 4,
   "metadata": {},
   "outputs": [
    {
     "name": "stdout",
     "output_type": "stream",
     "text": [
      "root\n",
      " |-- comment: string (nullable = true)\n",
      " |-- sentiment: string (nullable = true)\n",
      "\n"
     ]
    }
   ],
   "source": [
    "df.printSchema()"
   ]
  },
  {
   "cell_type": "code",
   "execution_count": 5,
   "metadata": {},
   "outputs": [],
   "source": [
    "df = df.na.drop().dropDuplicates()"
   ]
  },
  {
   "cell_type": "markdown",
   "metadata": {},
   "source": [
    "# Xử lí dữ liệu"
   ]
  },
  {
   "cell_type": "code",
   "execution_count": 6,
   "metadata": {},
   "outputs": [
    {
     "name": "stdout",
     "output_type": "stream",
     "text": [
      "+------------------+------+\n",
      "|         sentiment| count|\n",
      "+------------------+------+\n",
      "|                 1|678723|\n",
      "|                -1|354761|\n",
      "|                  |    95|\n",
      "|                ,1|    20|\n",
      "|           however|    20|\n",
      "|          though.\"|    10|\n",
      "|       thank you.\"|     8|\n",
      "|             etc.\"|     7|\n",
      "|               ,-1|     7|\n",
      "|            though|     6|\n",
      "|              the |     6|\n",
      "|              but |     6|\n",
      "|                I |     6|\n",
      "|          thanks.\"|     5|\n",
      "|               but|     5|\n",
      "| please fix this.\"|     5|\n",
      "|              well|     5|\n",
      "|                )\"|     5|\n",
      "|                 2|     5|\n",
      "|           thanks\"|     4|\n",
      "|              and |     4|\n",
      "|               etc|     4|\n",
      "|            thanks|     4|\n",
      "|            simple|     4|\n",
      "|             still|     3|\n",
      "|         otherwise|     3|\n",
      "|               too|     3|\n",
      "|               fun|     3|\n",
      "|            but I |     3|\n",
      "|         nothing.\"|     3|\n",
      "+------------------+------+\n",
      "only showing top 30 rows\n",
      "\n"
     ]
    }
   ],
   "source": [
    "df.groupBy(\"sentiment\") \\\n",
    "    .count() \\\n",
    "    .orderBy(col(\"count\").desc()) \\\n",
    "    .show(30)"
   ]
  },
  {
   "cell_type": "code",
   "execution_count": 7,
   "metadata": {},
   "outputs": [],
   "source": [
    "df = df.filter((df.sentiment==\"1\") | (df.sentiment==\"-1\"))"
   ]
  },
  {
   "cell_type": "code",
   "execution_count": 8,
   "metadata": {},
   "outputs": [
    {
     "name": "stdout",
     "output_type": "stream",
     "text": [
      "+---------+------+\n",
      "|sentiment| count|\n",
      "+---------+------+\n",
      "|        1|678723|\n",
      "|       -1|354761|\n",
      "+---------+------+\n",
      "\n"
     ]
    }
   ],
   "source": [
    "df.groupBy(\"sentiment\") \\\n",
    "    .count() \\\n",
    "    .orderBy(col(\"count\").desc()) \\\n",
    "    .show(30)"
   ]
  },
  {
   "cell_type": "raw",
   "metadata": {},
   "source": [
    "Chia bộ dữ liệu thành 2 tập (train, test) với tỷ lệ (7,3)"
   ]
  },
  {
   "cell_type": "code",
   "execution_count": 9,
   "metadata": {},
   "outputs": [],
   "source": [
    "### Randomly split data into training and test sets. set seed for reproducibility\n",
    "\n",
    "(trainingData, testData) = df.randomSplit([.7, .3], seed=100)"
   ]
  },
  {
   "cell_type": "code",
   "execution_count": 10,
   "metadata": {},
   "outputs": [],
   "source": [
    "from pyspark.ml.feature import RegexTokenizer, StopWordsRemover, CountVectorizer, IDF, OneHotEncoder, StringIndexer, VectorAssembler\n",
    "\n",
    "tokenizer = RegexTokenizer(inputCol=\"comment\", outputCol=\"tokens\", pattern=\"\\\\s+|[,.()\\\"]\")\n",
    "\n",
    "# default stop words \n",
    "# StopWordsRemover.loadDefaultStopWords(language='english')\n",
    "\n",
    "add_stopwords = []\n",
    "\n",
    "remover = StopWordsRemover(inputCol=\"tokens\", outputCol=\"commentTokens\").setStopWords(add_stopwords)\n",
    "\n",
    "# bag of words count\n",
    "cv = CountVectorizer(inputCol=\"commentTokens\", outputCol=\"cv\", vocabSize=200000, minDF=5)\n",
    "\n",
    "idf = IDF(inputCol=\"cv\", outputCol=\"features\")\n",
    "\n",
    "label = StringIndexer(inputCol=\"sentiment\", outputCol=\"label\")"
   ]
  },
  {
   "cell_type": "markdown",
   "metadata": {},
   "source": [
    "# Huấn luyện mô hình"
   ]
  },
  {
   "cell_type": "code",
   "execution_count": 11,
   "metadata": {},
   "outputs": [],
   "source": [
    "from pyspark.ml.classification import LogisticRegression\n",
    "\n",
    "lr = LogisticRegression(maxIter=100, regParam=.02, elasticNetParam=.3)"
   ]
  },
  {
   "cell_type": "code",
   "execution_count": 12,
   "metadata": {},
   "outputs": [],
   "source": [
    "from pyspark.ml import Pipeline\n",
    "\n",
    "pipeline = Pipeline(stages=[tokenizer, remover, cv, idf, label, lr])"
   ]
  },
  {
   "cell_type": "code",
   "execution_count": 13,
   "metadata": {},
   "outputs": [],
   "source": [
    "model = pipeline.fit(trainingData)"
   ]
  },
  {
   "cell_type": "markdown",
   "metadata": {},
   "source": [
    "# Đánh giá mô hình"
   ]
  },
  {
   "cell_type": "code",
   "execution_count": 14,
   "metadata": {},
   "outputs": [],
   "source": [
    "predictions = model.transform(testData)"
   ]
  },
  {
   "cell_type": "code",
   "execution_count": 15,
   "metadata": {},
   "outputs": [
    {
     "data": {
      "text/plain": [
       "0.9583883370104008"
      ]
     },
     "execution_count": 15,
     "metadata": {},
     "output_type": "execute_result"
    }
   ],
   "source": [
    "from pyspark.ml.evaluation import BinaryClassificationEvaluator\n",
    "\n",
    "evaluator = BinaryClassificationEvaluator()\n",
    "\n",
    "evaluator.evaluate(predictions)"
   ]
  },
  {
   "cell_type": "markdown",
   "metadata": {},
   "source": [
    "# Lưu mô hình để sử dụng phân loại comment"
   ]
  },
  {
   "cell_type": "code",
   "execution_count": 16,
   "metadata": {},
   "outputs": [],
   "source": [
    "model.save(\"hdfs://namenode/user/root/model\")\n",
    "# model.write().overwrite().save(\"hdfs://namenode/user/root/model\")"
   ]
  },
  {
   "cell_type": "code",
   "execution_count": null,
   "metadata": {},
   "outputs": [],
   "source": []
  }
 ],
 "metadata": {
  "kernelspec": {
   "display_name": "Python 3",
   "language": "python",
   "name": "python3"
  },
  "language_info": {
   "codemirror_mode": {
    "name": "ipython",
    "version": 3
   },
   "file_extension": ".py",
   "mimetype": "text/x-python",
   "name": "python",
   "nbconvert_exporter": "python",
   "pygments_lexer": "ipython3",
   "version": "3.7.3"
  }
 },
 "nbformat": 4,
 "nbformat_minor": 4
}

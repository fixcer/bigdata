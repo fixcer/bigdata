{
 "cells": [
  {
   "cell_type": "code",
   "execution_count": 1,
   "metadata": {},
   "outputs": [],
   "source": [
    "import os, re\n",
    "from textblob import TextBlob as model\n",
    "from pyspark.sql import SparkSession, DataFrame\n",
    "from pyspark.sql.functions import *\n",
    "from pyspark.sql.types import *\n",
    "from pyspark.ml import PipelineModel\n",
    "\n",
    "mongo = \"org.mongodb.spark:mongo-spark-connector_2.12:3.0.0\"\n",
    "\n",
    "os.environ[\"PYSPARK_PYTHON\"]=\"python3.7\"\n",
    "os.environ[\"PYSPARK_DRIVER_PYTHON\"]=\"python3.7\"\n",
    "os.environ[\"PYSPARK_SUBMIT_ARGS\"] = (\"--packages {} pyspark-shell\".format(mongo))"
   ]
  },
  {
   "cell_type": "code",
   "execution_count": 2,
   "metadata": {},
   "outputs": [],
   "source": [
    "KAFKA_BROKER = \"kafka:9092\"\n",
    "KAFKA_TOPIC = \"fixcer\"\n",
    "\n",
    "spark = SparkSession \\\n",
    "        .builder \\\n",
    "        .master(\"local\") \\\n",
    "        .appName(\"Spark\") \\\n",
    "        .config(\"spark.mongodb.output.uri\", \"mongodb://172.16.0.12:27017/bigdata.application\") \\\n",
    "        .config(\"spark.jars.packages\", \"org.mongodb.spark:mongo-spark-connector_2.12:3.0.0\") \\\n",
    "        .getOrCreate()"
   ]
  },
  {
   "cell_type": "code",
   "execution_count": 67,
   "metadata": {},
   "outputs": [],
   "source": [
    "df = spark.read.format(\"json\") \\\n",
    "            .option(\"mode\", \"FAILFAST\") \\\n",
    "            .option(\"inferSchema\", \"true\") \\\n",
    "            .load(\"hdfs://namenode/user/root/input/data07.json\")\n",
    "\n",
    "# model1 = PipelineModel.load(\"hdfs://namenode/user/root/model\")"
   ]
  },
  {
   "cell_type": "code",
   "execution_count": 68,
   "metadata": {},
   "outputs": [],
   "source": [
    "df = df.na.drop().dropDuplicates()"
   ]
  },
  {
   "cell_type": "code",
   "execution_count": 69,
   "metadata": {},
   "outputs": [],
   "source": [
    "df = df.filter(size(df['comments']) >= 30)"
   ]
  },
  {
   "cell_type": "code",
   "execution_count": 70,
   "metadata": {},
   "outputs": [],
   "source": [
    "def convertString(string):\n",
    "    try:\n",
    "        string = re.sub('\\D', '', string)\n",
    "        return int(string)\n",
    "    except:\n",
    "        return 0\n",
    "        \n",
    "convert = udf(convertString, IntegerType())\n",
    "df = df.withColumn(\"androidVersion\", convert(col(\"androidVersion\")))\n",
    "df = df.withColumn(\"currentVersion\", convert(col(\"currentVersion\")))\n",
    "df = df.withColumn(\"size\", convert(col(\"size\")))"
   ]
  },
  {
   "cell_type": "code",
   "execution_count": 71,
   "metadata": {},
   "outputs": [],
   "source": [
    "def to_sentiment(comments):\n",
    "    positive, negative = 0, 0\n",
    "    \n",
    "    for comment in comments:\n",
    "        try:\n",
    "            sentiment = model(comment).polarity\n",
    "            if sentiment >= 0:\n",
    "                positive += 1\n",
    "            else:\n",
    "                negative += 1\n",
    "        except:\n",
    "            negative += 1\n",
    "            \n",
    "    return [positive, negative]\n",
    "\n",
    "convert = udf(to_sentiment, ArrayType(IntegerType()))"
   ]
  },
  {
   "cell_type": "code",
   "execution_count": 72,
   "metadata": {},
   "outputs": [],
   "source": [
    "df = df.withColumn(\"comments\", convert(col(\"comments\")))"
   ]
  },
  {
   "cell_type": "code",
   "execution_count": 73,
   "metadata": {},
   "outputs": [],
   "source": [
    "df = df.withColumn('positive', df.comments[0]).withColumn('negative', df.comments[1])"
   ]
  },
  {
   "cell_type": "code",
   "execution_count": 74,
   "metadata": {},
   "outputs": [],
   "source": [
    "df = df.drop('comments')"
   ]
  },
  {
   "cell_type": "code",
   "execution_count": 75,
   "metadata": {},
   "outputs": [],
   "source": [
    "df = df.filter(df.positive*df.negative > 0)"
   ]
  },
  {
   "cell_type": "code",
   "execution_count": null,
   "metadata": {},
   "outputs": [],
   "source": [
    "df.write.format(\"mongo\").mode(\"append\").save()"
   ]
  },
  {
   "cell_type": "code",
   "execution_count": null,
   "metadata": {},
   "outputs": [],
   "source": []
  }
 ],
 "metadata": {
  "kernelspec": {
   "display_name": "Python 3",
   "language": "python",
   "name": "python3"
  },
  "language_info": {
   "codemirror_mode": {
    "name": "ipython",
    "version": 3
   },
   "file_extension": ".py",
   "mimetype": "text/x-python",
   "name": "python",
   "nbconvert_exporter": "python",
   "pygments_lexer": "ipython3",
   "version": "3.7.3"
  }
 },
 "nbformat": 4,
 "nbformat_minor": 4
}

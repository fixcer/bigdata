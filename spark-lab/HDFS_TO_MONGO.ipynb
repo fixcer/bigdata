{
 "cells": [
  {
   "cell_type": "markdown",
   "metadata": {},
   "source": [
    "# Khởi tạo môi trường"
   ]
  },
  {
   "cell_type": "code",
   "execution_count": null,
   "metadata": {},
   "outputs": [],
   "source": [
    "import os, re\n",
    "from textblob import TextBlob as model\n",
    "from pyspark.sql import SparkSession, DataFrame\n",
    "from pyspark.sql.functions import *\n",
    "from pyspark.sql.types import *\n",
    "from pyspark.ml import PipelineModel\n",
    "\n",
    "mongo = \"org.mongodb.spark:mongo-spark-connector_2.12:3.0.0\"\n",
    "\n",
    "os.environ[\"PYSPARK_PYTHON\"]=\"python3.7\"\n",
    "os.environ[\"PYSPARK_DRIVER_PYTHON\"]=\"python3.7\"\n",
    "os.environ[\"PYSPARK_SUBMIT_ARGS\"] = (\"--packages {} pyspark-shell\".format(mongo))"
   ]
  },
  {
   "cell_type": "markdown",
   "metadata": {},
   "source": [
    "# Tạo kết nối giữa Spark và MongDB"
   ]
  },
  {
   "cell_type": "code",
   "execution_count": 2,
   "metadata": {},
   "outputs": [],
   "source": [
    "KAFKA_BROKER = \"kafka:9092\"\n",
    "KAFKA_TOPIC = \"fixcer\"\n",
    "\n",
    "spark = SparkSession \\\n",
    "        .builder \\\n",
    "        .master(\"spark://spark-master:7077\") \\\n",
    "        .appName(\"Spark\") \\\n",
    "        .config(\"spark.mongodb.output.uri\", \"mongodb://172.16.0.2:27017/bigdata.application\") \\\n",
    "        .config(\"spark.jars.packages\", \"org.mongodb.spark:mongo-spark-connector_2.12:3.0.0\") \\\n",
    "        .getOrCreate()"
   ]
  },
  {
   "cell_type": "markdown",
   "metadata": {},
   "source": [
    "# Đọc dữ liệu từ HDFS"
   ]
  },
  {
   "cell_type": "code",
   "execution_count": 3,
   "metadata": {},
   "outputs": [],
   "source": [
    "df = spark.read.format(\"json\") \\\n",
    "            .option(\"mode\", \"FAILFAST\") \\\n",
    "            .option(\"inferSchema\", \"true\") \\\n",
    "            .load(\"hdfs://namenode/user/root/input/\")\n",
    "\n",
    "# model1 = PipelineModel.load(\"hdfs://namenode/user/root/model\")"
   ]
  },
  {
   "cell_type": "code",
   "execution_count": 4,
   "metadata": {},
   "outputs": [
    {
     "name": "stdout",
     "output_type": "stream",
     "text": [
      "root\n",
      " |-- androidVersion: string (nullable = true)\n",
      " |-- category: string (nullable = true)\n",
      " |-- comments: array (nullable = true)\n",
      " |    |-- element: string (containsNull = true)\n",
      " |-- contentRating: string (nullable = true)\n",
      " |-- currentVersion: string (nullable = true)\n",
      " |-- installs: long (nullable = true)\n",
      " |-- lastUpdate: long (nullable = true)\n",
      " |-- price: double (nullable = true)\n",
      " |-- ratings: long (nullable = true)\n",
      " |-- reviews: long (nullable = true)\n",
      " |-- score: double (nullable = true)\n",
      " |-- size: string (nullable = true)\n",
      " |-- title: string (nullable = true)\n",
      "\n"
     ]
    }
   ],
   "source": [
    "df.printSchema()"
   ]
  },
  {
   "cell_type": "code",
   "execution_count": null,
   "metadata": {},
   "outputs": [],
   "source": [
    "schema =  StructType([\n",
    "    StructField(\"androidVersion\", StringType(), True),\n",
    "    StructField(\"category\", StringType(), True),\n",
    "    StructField(\"comments\", ArrayType(StringType()), True),\n",
    "    StructField(\"contentRating\", StringType(), True),\n",
    "    StructField(\"currentVersion\", StringType(), True),\n",
    "    StructField(\"installs\", LongType(), True),\n",
    "    StructField(\"lastUpdate\", LongType(), True),\n",
    "    StructField(\"price\", DoubleType(), True),\n",
    "    StructField(\"ratings\", LongType(), True),\n",
    "    StructField(\"reviews\", LongType(), True),\n",
    "    StructField(\"score\", DoubleType(), True),\n",
    "    StructField(\"size\", StringType(), True),\n",
    "    StructField(\"title\", StringType(), True)\n",
    "]) "
   ]
  },
  {
   "cell_type": "markdown",
   "metadata": {},
   "source": [
    "# Tiền xử lý dữ liệu"
   ]
  },
  {
   "cell_type": "code",
   "execution_count": 8,
   "metadata": {},
   "outputs": [],
   "source": [
    "df = df.na.drop().dropDuplicates()"
   ]
  },
  {
   "cell_type": "code",
   "execution_count": 9,
   "metadata": {},
   "outputs": [],
   "source": [
    "df = df.filter(size(df['comments']) >= 30)"
   ]
  },
  {
   "cell_type": "code",
   "execution_count": 10,
   "metadata": {},
   "outputs": [],
   "source": [
    "def convertString(string):\n",
    "    try:\n",
    "        string = re.sub('\\D', '', string)\n",
    "        return int(string)\n",
    "    except:\n",
    "        return 0\n",
    "        \n",
    "convert = udf(convertString, IntegerType())\n",
    "df = df.withColumn(\"androidVersion\", convert(col(\"androidVersion\")))\n",
    "df = df.withColumn(\"currentVersion\", convert(col(\"currentVersion\")))\n",
    "df = df.withColumn(\"size\", convert(col(\"size\")))"
   ]
  },
  {
   "cell_type": "code",
   "execution_count": 11,
   "metadata": {},
   "outputs": [
    {
     "name": "stdout",
     "output_type": "stream",
     "text": [
      "root\n",
      " |-- androidVersion: integer (nullable = true)\n",
      " |-- category: string (nullable = true)\n",
      " |-- comments: array (nullable = true)\n",
      " |    |-- element: string (containsNull = true)\n",
      " |-- contentRating: string (nullable = true)\n",
      " |-- currentVersion: integer (nullable = true)\n",
      " |-- installs: long (nullable = true)\n",
      " |-- lastUpdate: long (nullable = true)\n",
      " |-- price: double (nullable = true)\n",
      " |-- ratings: long (nullable = true)\n",
      " |-- reviews: long (nullable = true)\n",
      " |-- score: double (nullable = true)\n",
      " |-- size: integer (nullable = true)\n",
      " |-- title: string (nullable = true)\n",
      "\n"
     ]
    }
   ],
   "source": [
    "df.printSchema()"
   ]
  },
  {
   "cell_type": "code",
   "execution_count": 12,
   "metadata": {},
   "outputs": [],
   "source": [
    "schema = StructType([StructField('comment', StringType(), True)])"
   ]
  },
  {
   "cell_type": "markdown",
   "metadata": {},
   "source": [
    "# Gán nhãn comment"
   ]
  },
  {
   "cell_type": "code",
   "execution_count": 13,
   "metadata": {},
   "outputs": [],
   "source": [
    "def to_sentiment(comments):\n",
    "    positive, negative = 0, 0\n",
    "    \n",
    "    for comment in comments:\n",
    "        try:\n",
    "            sentiment = model(comment).polarity\n",
    "            if sentiment >= 0:\n",
    "                positive += 1\n",
    "            else:\n",
    "                negative += 1\n",
    "        except:\n",
    "            negative += 1\n",
    "            \n",
    "    return [positive, negative]\n",
    "\n",
    "convert = udf(to_sentiment, ArrayType(IntegerType()))"
   ]
  },
  {
   "cell_type": "code",
   "execution_count": 14,
   "metadata": {},
   "outputs": [],
   "source": [
    "df = df.withColumn(\"comments\", convert(col(\"comments\")))"
   ]
  },
  {
   "cell_type": "code",
   "execution_count": 15,
   "metadata": {},
   "outputs": [],
   "source": [
    "df = df.withColumn('positive', df.comments[0]).withColumn('negative', df.comments[1])"
   ]
  },
  {
   "cell_type": "code",
   "execution_count": 16,
   "metadata": {},
   "outputs": [],
   "source": [
    "df = df.drop('comments')"
   ]
  },
  {
   "cell_type": "code",
   "execution_count": 17,
   "metadata": {},
   "outputs": [],
   "source": [
    "df = df.filter(df.positive*df.negative > 0)"
   ]
  },
  {
   "cell_type": "code",
   "execution_count": 18,
   "metadata": {},
   "outputs": [
    {
     "name": "stdout",
     "output_type": "stream",
     "text": [
      "root\n",
      " |-- androidVersion: integer (nullable = true)\n",
      " |-- category: string (nullable = true)\n",
      " |-- contentRating: string (nullable = true)\n",
      " |-- currentVersion: integer (nullable = true)\n",
      " |-- installs: long (nullable = true)\n",
      " |-- lastUpdate: long (nullable = true)\n",
      " |-- price: double (nullable = true)\n",
      " |-- ratings: long (nullable = true)\n",
      " |-- reviews: long (nullable = true)\n",
      " |-- score: double (nullable = true)\n",
      " |-- size: integer (nullable = true)\n",
      " |-- title: string (nullable = true)\n",
      " |-- positive: integer (nullable = true)\n",
      " |-- negative: integer (nullable = true)\n",
      "\n"
     ]
    }
   ],
   "source": [
    "df.printSchema()"
   ]
  },
  {
   "cell_type": "markdown",
   "metadata": {},
   "source": [
    "# Ghi vào MongoDB"
   ]
  },
  {
   "cell_type": "code",
   "execution_count": 19,
   "metadata": {},
   "outputs": [],
   "source": [
    "df.write.format(\"mongo\").mode(\"append\").save()"
   ]
  },
  {
   "cell_type": "code",
   "execution_count": 20,
   "metadata": {},
   "outputs": [],
   "source": [
    "spark.stop()"
   ]
  },
  {
   "cell_type": "code",
   "execution_count": null,
   "metadata": {},
   "outputs": [],
   "source": []
  }
 ],
 "metadata": {
  "kernelspec": {
   "display_name": "Python 3",
   "language": "python",
   "name": "python3"
  },
  "language_info": {
   "codemirror_mode": {
    "name": "ipython",
    "version": 3
   },
   "file_extension": ".py",
   "mimetype": "text/x-python",
   "name": "python",
   "nbconvert_exporter": "python",
   "pygments_lexer": "ipython3",
   "version": "3.7.3"
  }
 },
 "nbformat": 4,
 "nbformat_minor": 4
}
